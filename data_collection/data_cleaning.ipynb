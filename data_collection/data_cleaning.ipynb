{
 "cells": [
  {
   "cell_type": "markdown",
   "metadata": {},
   "source": [
    "Here we want to clean the data. There are rows containing unknown characters for amino acids (like X) and we also don't want proteins which have chains of length 20 or less because these chains create problems for the chain-level predictors used"
   ]
  },
  {
   "cell_type": "code",
   "execution_count": 3,
   "metadata": {},
   "outputs": [],
   "source": [
    "import pandas as pd \n",
    "data  = pd.read_csv(\"pdb_query30rep_results_essentials.csv\")"
   ]
  },
  {
   "cell_type": "code",
   "execution_count": 4,
   "metadata": {},
   "outputs": [],
   "source": [
    "import re\n",
    "import numpy as np\n",
    "def is_valid_aa_seq(strg):\n",
    "    reg=re.compile(r'^[ACDEFGHIKLMNPQRSTVWY]*$')\n",
    "    return bool(reg.match(strg))\n",
    "\n",
    "flagged_for_removal = set()\n",
    "nrows,ncols = data.shape\n",
    "useful_rows_mask = [True]*nrows\n",
    "\n",
    "for i in range(nrows):\n",
    "    pdbid = data.loc[i,\"PDB ID\"]\n",
    "#     print(pdbid)\n",
    "\n",
    "    seq = data.loc[i,\"Sequence\"]\n",
    "#     print(seq)\n",
    "    if type(seq) != str:\n",
    "        flagged_for_removal.add(pdbid)\n",
    "    elif len(seq)<=20:\n",
    "        flagged_for_removal.add(pdbid)\n",
    "    elif not is_valid_aa_seq(seq):\n",
    "        flagged_for_removal.add(pdbid)\n",
    "for i in range(nrows):\n",
    "    pdbid = data.loc[i,\"PDB ID\"]\n",
    "    if pdbid in flagged_for_removal:\n",
    "        useful_rows_mask[i] = False\n",
    "\n",
    "data_cleaned = data.loc[useful_rows_mask,:]\n",
    "data_cleaned.to_csv(\"dataset30_seq_cleaned.csv\",index  = False)"
   ]
  },
  {
   "cell_type": "code",
   "execution_count": null,
   "metadata": {},
   "outputs": [],
   "source": []
  }
 ],
 "metadata": {
  "kernelspec": {
   "display_name": "Python 3",
   "language": "python",
   "name": "python3"
  },
  "language_info": {
   "codemirror_mode": {
    "name": "ipython",
    "version": 3
   },
   "file_extension": ".py",
   "mimetype": "text/x-python",
   "name": "python",
   "nbconvert_exporter": "python",
   "pygments_lexer": "ipython3",
   "version": "3.7.3"
  }
 },
 "nbformat": 4,
 "nbformat_minor": 4
}
