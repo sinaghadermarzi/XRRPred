{
 "cells": [
  {
   "cell_type": "markdown",
   "metadata": {},
   "source": [
    "we have the list of proteins for training and test set and the corresponding data for them in another file. now we want to create a file for each of training set and test set with their features.\n"
   ]
  },
  {
   "cell_type": "code",
   "execution_count": null,
   "metadata": {},
   "outputs": [],
   "source": [
    "import pandas as pd\n",
    "chain_seqs = {}\n",
    "resolution = {}\n",
    "rfree  = {}\n",
    "\n",
    "chain_data  = pd.read_csv(\"dataset30_seq_cleaned.csv\")\n",
    "nrows, ncols  = chain_data.shape\n",
    "\n",
    "for i in range (nrows):\n",
    "    pdbid = chain_data.loc[i,\"PDB ID\"]\n",
    "    seq = chain_data.loc[i,\"PDB ID\"]\n",
    "    if pdbid not in resolution:\n",
    "        resolution[pdbid] = chain_data.loc[i,\"Resolution\"]\n",
    "        rfree[pdbid] = chain_data.loc[i,\"R Free\"]\n",
    "        chain_seqs[pdbid] = [chain_data.loc[i,\"Sequence\"]]\n",
    "    else:\n",
    "        chain_seqs[pdbid].append(chain_data.loc[i,\"Sequence\"])\n",
    "\n",
    "        \n",
    "with open(\"test_proteins.txt\") as test_prots_f, open(\"training_proteins.txt\") as training_prots_f:\n",
    "    test_prots=test_prots_f.read().split(\"\\n\")\n",
    "    training_prots= training_prots_f.read().split(\"\\n\")\n",
    "\n",
    "for pdbid in test_prots:\n",
    "    \n",
    "    \n"
   ]
  },
  {
   "cell_type": "code",
   "execution_count": null,
   "metadata": {},
   "outputs": [],
   "source": []
  }
 ],
 "metadata": {
  "kernelspec": {
   "display_name": "Python 3",
   "language": "python",
   "name": "python3"
  },
  "language_info": {
   "codemirror_mode": {
    "name": "ipython",
    "version": 3
   },
   "file_extension": ".py",
   "mimetype": "text/x-python",
   "name": "python",
   "nbconvert_exporter": "python",
   "pygments_lexer": "ipython3",
   "version": "3.7.3"
  }
 },
 "nbformat": 4,
 "nbformat_minor": 4
}
