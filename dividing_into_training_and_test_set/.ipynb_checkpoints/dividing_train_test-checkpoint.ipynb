{
 "cells": [
  {
   "cell_type": "markdown",
   "metadata": {},
   "source": [
    "dividing into training and test set\n",
    "----------------------------------------------\n",
    "\n",
    "here we want to divide proteins into training and test set. there are two options here:\n",
    "the restricts on silimilarity depends on our similarity based baseline.\n",
    "\n",
    "1) we include all of the structure regardless of the similarity between their chains: in this case we need to make sure that there is no similar chains between training and test set or there are no protein between training and test set which all of their chains are similar. we can eliminate this existing similarity by a simple algorithm.\n",
    "\n",
    "having all the 30% cluster annotated to our proteins, we sort them from the largest to the smallest. we add the clusters one by one stopping just before the size of the training set exceeds the desired size. Then we fil the left space with the small (probably single) clusters.  \n",
    "\n",
    "2) the second aspproach is to download only representatives from 30% similarity clusters  (using pdb) and then divide them in any way we like  \n",
    "\n",
    "for now we take the second approach and we divide them based on the year.\n",
    "to comlement this, we can later test how adding the cluster-mates to the training set will chage the results.  \n",
    "\n"
   ]
  },
  {
   "cell_type": "code",
   "execution_count": 10,
   "metadata": {},
   "outputs": [],
   "source": [
    "import datetime as dt\n",
    "import pandas as pd\n",
    "\n",
    "df= pd.read_csv(\"dataset30_seq_cleaned.csv\")\n",
    "\n",
    "df['Dep. Date'] = pd.to_datetime(df['Dep. Date'])\n",
    "\n",
    "test_set_pdbids  = set(df.loc[df['Dep. Date'].dt.year >= 2018,\"PDB ID\"].values)\n",
    "train_set_pdbids  = set(df.loc[df['Dep. Date'].dt.year <2018,\"PDB ID\"].values)\n",
    "with open(\"test_proteins.txt\",\"w\",newline = \"\") as test_outf,\\\n",
    "    open(\"training_proteins.txt\",\"w\",newline = \"\") as training_outf:\n",
    "        test_outf.writelines(\"\\n\".join(test_set_pdbids))\n",
    "        training_outf.writelines(\"\\n\".join(train_set_pdbids))\n",
    "\n",
    "        \n",
    "        "
   ]
  }
 ],
 "metadata": {
  "kernelspec": {
   "display_name": "Python 3",
   "language": "python",
   "name": "python3"
  },
  "language_info": {
   "codemirror_mode": {
    "name": "ipython",
    "version": 3
   },
   "file_extension": ".py",
   "mimetype": "text/x-python",
   "name": "python",
   "nbconvert_exporter": "python",
   "pygments_lexer": "ipython3",
   "version": "3.7.3"
  }
 },
 "nbformat": 4,
 "nbformat_minor": 4
}
